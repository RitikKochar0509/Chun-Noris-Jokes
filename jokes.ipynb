{
 "cells": [
  {
   "cell_type": "code",
   "execution_count": null,
   "metadata": {},
   "outputs": [],
   "source": [
    "import requests\n",
    "from bs4 import BeautifulSoup as soup\n",
    "url = \"http://api.icndb.com/jokes\"\n",
    "response = requests.get(url)\n",
    "import json\n",
    "data = json.loads(response.text)\n",
    "res = []\n",
    "for i in data['value']:\n",
    "    res.append((str(i['id']),i['joke']))\n",
    "headings = ['ID','Joke']\n",
    "import pandas as pd\n",
    "df = pd.DataFrame(res)\n",
    "df.to_csv('latest chunknoris.csv',header = headings,index = False)"
   ]
  }
 ],
 "metadata": {
  "kernelspec": {
   "display_name": "Python 3",
   "language": "python",
   "name": "python3"
  },
  "language_info": {
   "codemirror_mode": {
    "name": "ipython",
    "version": 3
   },
   "file_extension": ".py",
   "mimetype": "text/x-python",
   "name": "python",
   "nbconvert_exporter": "python",
   "pygments_lexer": "ipython3",
   "version": "3.7.4"
  }
 },
 "nbformat": 4,
 "nbformat_minor": 2
}
